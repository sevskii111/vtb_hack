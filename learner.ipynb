{
  "cells": [
    {
      "cell_type": "code",
      "execution_count": 6,
      "metadata": {
        "colab": {
          "base_uri": "https://localhost:8080/"
        },
        "id": "SaYqSkjcHM54",
        "outputId": "8320b1d6-81b7-4970-9f9d-d68995e8504b"
      },
      "outputs": [
        {
          "name": "stdout",
          "output_type": "stream",
          "text": [
            "Requirement already satisfied: umap-learn in /opt/homebrew/Caskroom/miniforge/base/envs/vtb_hack/lib/python3.9/site-packages (0.5.3)\n",
            "Requirement already satisfied: scikit-learn>=0.22 in /opt/homebrew/Caskroom/miniforge/base/envs/vtb_hack/lib/python3.9/site-packages (from umap-learn) (1.1.2)\n",
            "Requirement already satisfied: numpy>=1.17 in /opt/homebrew/Caskroom/miniforge/base/envs/vtb_hack/lib/python3.9/site-packages (from umap-learn) (1.23.3)\n",
            "Requirement already satisfied: numba>=0.49 in /opt/homebrew/Caskroom/miniforge/base/envs/vtb_hack/lib/python3.9/site-packages (from umap-learn) (0.56.2)\n",
            "Requirement already satisfied: tqdm in /opt/homebrew/Caskroom/miniforge/base/envs/vtb_hack/lib/python3.9/site-packages (from umap-learn) (4.64.1)\n",
            "Requirement already satisfied: pynndescent>=0.5 in /opt/homebrew/Caskroom/miniforge/base/envs/vtb_hack/lib/python3.9/site-packages (from umap-learn) (0.5.7)\n",
            "Requirement already satisfied: scipy>=1.0 in /opt/homebrew/Caskroom/miniforge/base/envs/vtb_hack/lib/python3.9/site-packages (from umap-learn) (1.9.1)\n",
            "Requirement already satisfied: setuptools in /opt/homebrew/Caskroom/miniforge/base/envs/vtb_hack/lib/python3.9/site-packages (from numba>=0.49->umap-learn) (65.4.1)\n",
            "Requirement already satisfied: llvmlite<0.40,>=0.39.0dev0 in /opt/homebrew/Caskroom/miniforge/base/envs/vtb_hack/lib/python3.9/site-packages (from numba>=0.49->umap-learn) (0.39.1)\n",
            "Requirement already satisfied: joblib>=0.11 in /opt/homebrew/Caskroom/miniforge/base/envs/vtb_hack/lib/python3.9/site-packages (from pynndescent>=0.5->umap-learn) (1.2.0)\n",
            "Requirement already satisfied: threadpoolctl>=2.0.0 in /opt/homebrew/Caskroom/miniforge/base/envs/vtb_hack/lib/python3.9/site-packages (from scikit-learn>=0.22->umap-learn) (3.1.0)\n",
            "Requirement already satisfied: imageio in /opt/homebrew/Caskroom/miniforge/base/envs/vtb_hack/lib/python3.9/site-packages (2.22.1)\n",
            "Requirement already satisfied: numpy in /opt/homebrew/Caskroom/miniforge/base/envs/vtb_hack/lib/python3.9/site-packages (from imageio) (1.23.3)\n",
            "Requirement already satisfied: pillow>=8.3.2 in /opt/homebrew/Caskroom/miniforge/base/envs/vtb_hack/lib/python3.9/site-packages (from imageio) (9.2.0)\n",
            "Requirement already satisfied: matplotlib in /opt/homebrew/Caskroom/miniforge/base/envs/vtb_hack/lib/python3.9/site-packages (3.6.1)\n",
            "Requirement already satisfied: packaging>=20.0 in /opt/homebrew/Caskroom/miniforge/base/envs/vtb_hack/lib/python3.9/site-packages (from matplotlib) (21.3)\n",
            "Requirement already satisfied: pyparsing>=2.2.1 in /opt/homebrew/Caskroom/miniforge/base/envs/vtb_hack/lib/python3.9/site-packages (from matplotlib) (3.0.9)\n",
            "Requirement already satisfied: cycler>=0.10 in /opt/homebrew/Caskroom/miniforge/base/envs/vtb_hack/lib/python3.9/site-packages (from matplotlib) (0.11.0)\n",
            "Requirement already satisfied: pillow>=6.2.0 in /opt/homebrew/Caskroom/miniforge/base/envs/vtb_hack/lib/python3.9/site-packages (from matplotlib) (9.2.0)\n",
            "Requirement already satisfied: kiwisolver>=1.0.1 in /opt/homebrew/Caskroom/miniforge/base/envs/vtb_hack/lib/python3.9/site-packages (from matplotlib) (1.4.4)\n",
            "Requirement already satisfied: fonttools>=4.22.0 in /opt/homebrew/Caskroom/miniforge/base/envs/vtb_hack/lib/python3.9/site-packages (from matplotlib) (4.37.4)\n",
            "Requirement already satisfied: numpy>=1.19 in /opt/homebrew/Caskroom/miniforge/base/envs/vtb_hack/lib/python3.9/site-packages (from matplotlib) (1.23.3)\n",
            "Requirement already satisfied: contourpy>=1.0.1 in /opt/homebrew/Caskroom/miniforge/base/envs/vtb_hack/lib/python3.9/site-packages (from matplotlib) (1.0.5)\n",
            "Requirement already satisfied: python-dateutil>=2.7 in /opt/homebrew/Caskroom/miniforge/base/envs/vtb_hack/lib/python3.9/site-packages (from matplotlib) (2.8.2)\n",
            "Requirement already satisfied: six>=1.5 in /opt/homebrew/Caskroom/miniforge/base/envs/vtb_hack/lib/python3.9/site-packages (from python-dateutil>=2.7->matplotlib) (1.16.0)\n"
          ]
        }
      ],
      "source": [
        "!pip install umap-learn\n",
        "!pip install imageio\n",
        "!pip install matplotlib"
      ]
    },
    {
      "cell_type": "code",
      "execution_count": 7,
      "metadata": {
        "colab": {
          "base_uri": "https://localhost:8080/"
        },
        "id": "lCGesujOq2r0",
        "outputId": "d89f509b-d716-47c1-c8dd-957b72d66579"
      },
      "outputs": [
        {
          "name": "stderr",
          "output_type": "stream",
          "text": [
            "[nltk_data] Downloading package stopwords to\n",
            "[nltk_data]     /Users/sevskii/nltk_data...\n",
            "[nltk_data]   Package stopwords is already up-to-date!\n"
          ]
        }
      ],
      "source": [
        "import json\n",
        "from pathlib import Path\n",
        "from datetime import datetime, timezone\n",
        "from sklearn.decomposition import TruncatedSVD\n",
        "import nltk\n",
        "nltk.download('stopwords')\n",
        "from nltk.corpus import stopwords\n",
        "import matplotlib.pyplot as plt\n",
        "import numpy as np\n",
        "import imageio\n",
        "import joblib"
      ]
    },
    {
      "cell_type": "code",
      "execution_count": 8,
      "metadata": {
        "id": "WDf5A7NHrOq2"
      },
      "outputs": [],
      "source": [
        "data_path = Path('prod/news/')"
      ]
    },
    {
      "cell_type": "code",
      "execution_count": 9,
      "metadata": {
        "id": "MW7u0q1yrRMj"
      },
      "outputs": [],
      "source": [
        "all_data_references = [str(i) for i in list(data_path.glob('**/*.json'))]"
      ]
    },
    {
      "cell_type": "code",
      "execution_count": 10,
      "metadata": {
        "id": "kC8IM_0Frpzw"
      },
      "outputs": [],
      "source": [
        "all_data_dict = list()\n",
        "\n",
        "for path in all_data_references:\n",
        "  with open(path, 'r') as f:\n",
        "    all_data_dict += json.load(f)"
      ]
    },
    {
      "cell_type": "code",
      "execution_count": 11,
      "metadata": {
        "id": "e3Z17qxJs5BV"
      },
      "outputs": [],
      "source": [
        "for obj in all_data_dict:\n",
        "  obj['timestamp'] = datetime.fromisoformat(obj['timestamp']).astimezone(timezone.utc)"
      ]
    },
    {
      "cell_type": "code",
      "execution_count": 12,
      "metadata": {
        "id": "xq0gExenuQzY"
      },
      "outputs": [],
      "source": [
        "all_data_dict.sort(key=lambda x: x['timestamp'])"
      ]
    },
    {
      "cell_type": "code",
      "execution_count": 13,
      "metadata": {
        "id": "ENgHfdt_4ubY"
      },
      "outputs": [],
      "source": [
        "content_list = []\n",
        "tags = []\n",
        "dates = []\n",
        "for i in all_data_dict:\n",
        "    string_content = f\"{i['title']} {i['text']}\"\n",
        "    tags.append(', '.join(i['tags']))\n",
        "    dates.append(i['timestamp'])\n",
        "    content_list.append(string_content)"
      ]
    },
    {
      "cell_type": "code",
      "execution_count": 14,
      "metadata": {
        "id": "YOrsvi_R3mV6"
      },
      "outputs": [],
      "source": [
        "import pandas as pd"
      ]
    },
    {
      "cell_type": "code",
      "execution_count": 15,
      "metadata": {
        "id": "VGvSCADj4Y34"
      },
      "outputs": [],
      "source": [
        "news_df = pd.DataFrame({'document': content_list, 'tags': tags, 'dates': dates})"
      ]
    },
    {
      "cell_type": "code",
      "execution_count": 16,
      "metadata": {
        "colab": {
          "base_uri": "https://localhost:8080/"
        },
        "id": "UQrDfmA84g2b",
        "outputId": "694378f5-65b6-4608-b524-a8855c02a185"
      },
      "outputs": [
        {
          "name": "stderr",
          "output_type": "stream",
          "text": [
            "/var/folders/dl/2bkd188s3y1c1xz6fdd4plr40000gn/T/ipykernel_7086/1881652931.py:1: FutureWarning: The default value of regex will change from True to False in a future version.\n",
            "  news_df['clean_doc'] = news_df['document'].str.replace(\"[^a-zA-Zа-яА-Я#]\", \" \")\n"
          ]
        }
      ],
      "source": [
        "news_df['clean_doc'] = news_df['document'].str.replace(\"[^a-zA-Zа-яА-Я#]\", \" \")\n",
        "news_df = news_df[news_df['clean_doc'].notnull()]\n",
        "news_df['clean_doc'] = news_df['clean_doc'].apply(lambda x: ' '.join([w for w in x.split() if len(w)>3]))\n",
        "news_df['clean_doc'] = news_df['clean_doc'].apply(lambda x: x.lower())"
      ]
    },
    {
      "cell_type": "code",
      "execution_count": 17,
      "metadata": {
        "id": "UQ-efUzGFtzg"
      },
      "outputs": [],
      "source": [
        "from sklearn.feature_extraction.text import TfidfVectorizer"
      ]
    },
    {
      "cell_type": "code",
      "execution_count": 18,
      "metadata": {
        "colab": {
          "base_uri": "https://localhost:8080/"
        },
        "id": "fDrbnDzMF61t",
        "outputId": "b81e0ec2-1aa9-4220-aab4-5572fa1a36ec"
      },
      "outputs": [
        {
          "name": "stderr",
          "output_type": "stream",
          "text": [
            "/opt/homebrew/Caskroom/miniforge/base/envs/vtb_hack/lib/python3.9/site-packages/sklearn/utils/deprecation.py:87: FutureWarning: Function get_feature_names is deprecated; get_feature_names is deprecated in 1.0 and will be removed in 1.2. Please use get_feature_names_out instead.\n",
            "  warnings.warn(msg, category=FutureWarning)\n"
          ]
        }
      ],
      "source": [
        "russian_stopwords = stopwords.words(\"russian\")\n",
        "english_stopwords = stopwords.words('english')\n",
        "stop_words = russian_stopwords + english_stopwords\n",
        "stop_words.extend('interfax.ru')\n",
        "vectorizer = TfidfVectorizer(stop_words=stop_words,max_features=10000, max_df = 0.5, use_idf = True, ngram_range=(1,3))\n",
        "X = vectorizer.fit_transform(news_df['clean_doc'])\n",
        "terms = vectorizer.get_feature_names()"
      ]
    },
    {
      "cell_type": "code",
      "execution_count": 19,
      "metadata": {
        "id": "jtHIWlBTGSpB"
      },
      "outputs": [],
      "source": [
        "from sklearn.cluster import KMeans\n",
        "num_clusters = 10\n",
        "km = KMeans(n_clusters=num_clusters)\n",
        "km.fit(X)\n",
        "clusters = km.labels_.tolist()"
      ]
    },
    {
      "cell_type": "code",
      "execution_count": 20,
      "metadata": {
        "id": "7xA89Mq3Gitq"
      },
      "outputs": [],
      "source": [
        "from sklearn.utils.extmath import randomized_svd\n",
        "U, Sigma, VT = randomized_svd(X, n_components=num_clusters, n_iter=100,\n",
        "                              random_state=122)"
      ]
    },
    {
      "cell_type": "code",
      "execution_count": 21,
      "metadata": {
        "colab": {
          "base_uri": "https://localhost:8080/"
        },
        "id": "hVqmx4P3GpXy",
        "outputId": "2038ab35-4b88-412e-9671-a8f02d101119"
      },
      "outputs": [
        {
          "name": "stdout",
          "output_type": "stream",
          "text": [
            "Concept 0: \n",
            "года\n",
            "млрд\n",
            "россии\n",
            "рублей\n",
            "также\n",
            "году\n",
            "пресс\n",
            " \n",
            "Concept 1: \n",
            "млрд\n",
            "рублей\n",
            "млрд рублей\n",
            "года\n",
            "баррель\n",
            "акций\n",
            "нефти\n",
            " \n",
            "Concept 2: \n",
            "covid\n",
            "случаев\n",
            "сутки\n",
            "число\n",
            "заражения\n",
            "коронавирусом\n",
            "коронавируса\n",
            " \n",
            "Concept 3: \n",
            "рублей\n",
            "млрд\n",
            "млрд рублей\n",
            "области\n",
            "случаев\n",
            "человек\n",
            "covid\n",
            " \n",
            "Concept 4: \n",
            "баррель\n",
            "нефть\n",
            "нефти\n",
            "дело\n",
            "brent\n",
            "евро\n",
            "торгов\n",
            " \n",
            "Concept 5: \n",
            "матче\n",
            "сборной\n",
            "цска\n",
            "место\n",
            "команды\n",
            "лиги\n",
            "чемпионата\n",
            " \n",
            "Concept 6: \n",
            "рублей\n",
            "колонии\n",
            "дело\n",
            "суда\n",
            "делу\n",
            "дела\n",
            "отношении\n",
            " \n",
            "Concept 7: \n",
            "рублей\n",
            "млрд рублей\n",
            "млрд\n",
            "области\n",
            "песков\n",
            "украины\n",
            "путин\n",
            " \n",
            "Concept 8: \n",
            "области\n",
            "года\n",
            "сутки\n",
            "газа\n",
            "тонн\n",
            "россии\n",
            "случаев\n",
            " \n",
            "Concept 9: \n",
            "акции\n",
            "акций\n",
            "индекс\n",
            "мосбиржи\n",
            "пункта\n",
            "бумаги\n",
            "индекс мосбиржи\n",
            " \n"
          ]
        }
      ],
      "source": [
        "for i, comp in enumerate(VT):\n",
        "        terms_comp = zip(terms, comp)\n",
        "        sorted_terms = sorted(terms_comp, key= lambda x: x[1], reverse=True)[:7]\n",
        "        print(\"Concept \"+ str(i) +\": \")\n",
        "        for t in sorted_terms:\n",
        "            print(t[0])\n",
        "        print(\" \")"
      ]
    },
    {
      "cell_type": "code",
      "execution_count": 22,
      "metadata": {
        "colab": {
          "base_uri": "https://localhost:8080/",
          "height": 320
        },
        "id": "P6ePU9-qGs4j",
        "outputId": "992c0435-9cfb-48a7-fcac-0c9cabeb0901"
      },
      "outputs": [
        {
          "name": "stderr",
          "output_type": "stream",
          "text": [
            "/opt/homebrew/Caskroom/miniforge/base/envs/vtb_hack/lib/python3.9/site-packages/tqdm/auto.py:22: TqdmWarning: IProgress not found. Please update jupyter and ipywidgets. See https://ipywidgets.readthedocs.io/en/stable/user_install.html\n",
            "  from .autonotebook import tqdm as notebook_tqdm\n"
          ]
        },
        {
          "data": {
            "image/png": "[encoded data removed]",
            "text/plain": [
              "<Figure size 700x500 with 1 Axes>"
            ]
          },
          "metadata": {},
          "output_type": "display_data"
        }
      ],
      "source": [
        "import umap\n",
        "X_topics=U*Sigma\n",
        "embedding = umap.UMAP(n_neighbors=100, min_dist=0.5, random_state=12).fit_transform(X_topics)\n",
        "plt.figure(figsize=(7, 5))\n",
        "plt.scatter(embedding[:, 0], \n",
        "            embedding[:, 1], \n",
        "            c = clusters,\n",
        "            s = 10, # size\n",
        "            edgecolor='none'\n",
        "            )\n",
        "plt.show()"
      ]
    },
    {
      "cell_type": "code",
      "execution_count": 23,
      "metadata": {
        "id": "D1Q828MTY4l7"
      },
      "outputs": [],
      "source": [
        "def get_top_tf_idf_words(response, top_n=2):\n",
        "    sorted_nzs = np.argsort(response.data)[:-(top_n+1):-1]\n",
        "    return np.array(terms)[response.indices[sorted_nzs]]"
      ]
    },
    {
      "cell_type": "code",
      "execution_count": 24,
      "metadata": {
        "colab": {
          "base_uri": "https://localhost:8080/"
        },
        "id": "wZ6G2DG4IXVF",
        "outputId": "8ee34fce-01fa-4d9a-a9da-0d70fccf6932"
      },
      "outputs": [
        {
          "name": "stderr",
          "output_type": "stream",
          "text": [
            "/opt/homebrew/Caskroom/miniforge/base/envs/vtb_hack/lib/python3.9/site-packages/sklearn/cluster/_kmeans.py:1307: RuntimeWarning: Explicit initial center position passed: performing only one init in KMeans instead of n_init=10.\n",
            "  super()._check_params(X)\n",
            "/opt/homebrew/Caskroom/miniforge/base/envs/vtb_hack/lib/python3.9/site-packages/sklearn/cluster/_kmeans.py:1307: RuntimeWarning: Explicit initial center position passed: performing only one init in KMeans instead of n_init=10.\n",
            "  super()._check_params(X)\n",
            "/opt/homebrew/Caskroom/miniforge/base/envs/vtb_hack/lib/python3.9/site-packages/sklearn/cluster/_kmeans.py:1307: RuntimeWarning: Explicit initial center position passed: performing only one init in KMeans instead of n_init=10.\n",
            "  super()._check_params(X)\n",
            "/opt/homebrew/Caskroom/miniforge/base/envs/vtb_hack/lib/python3.9/site-packages/sklearn/cluster/_kmeans.py:1307: RuntimeWarning: Explicit initial center position passed: performing only one init in KMeans instead of n_init=10.\n",
            "  super()._check_params(X)\n",
            "/opt/homebrew/Caskroom/miniforge/base/envs/vtb_hack/lib/python3.9/site-packages/sklearn/cluster/_kmeans.py:1307: RuntimeWarning: Explicit initial center position passed: performing only one init in KMeans instead of n_init=10.\n",
            "  super()._check_params(X)\n",
            "/opt/homebrew/Caskroom/miniforge/base/envs/vtb_hack/lib/python3.9/site-packages/sklearn/cluster/_kmeans.py:1307: RuntimeWarning: Explicit initial center position passed: performing only one init in KMeans instead of n_init=10.\n",
            "  super()._check_params(X)\n",
            "/opt/homebrew/Caskroom/miniforge/base/envs/vtb_hack/lib/python3.9/site-packages/sklearn/cluster/_kmeans.py:1307: RuntimeWarning: Explicit initial center position passed: performing only one init in KMeans instead of n_init=10.\n",
            "  super()._check_params(X)\n",
            "/opt/homebrew/Caskroom/miniforge/base/envs/vtb_hack/lib/python3.9/site-packages/sklearn/cluster/_kmeans.py:1307: RuntimeWarning: Explicit initial center position passed: performing only one init in KMeans instead of n_init=10.\n",
            "  super()._check_params(X)\n",
            "/opt/homebrew/Caskroom/miniforge/base/envs/vtb_hack/lib/python3.9/site-packages/sklearn/cluster/_kmeans.py:1307: RuntimeWarning: Explicit initial center position passed: performing only one init in KMeans instead of n_init=10.\n",
            "  super()._check_params(X)\n"
          ]
        }
      ],
      "source": [
        "window_len = pd.to_timedelta(2, unit='w')\n",
        "step = pd.to_timedelta(1, unit='w')\n",
        "window_start = news_df.dates[0]\n",
        "filenames = []\n",
        "\n",
        "curr_centers = None\n",
        "\n",
        "for file_i in range(10):\n",
        "  window_mask = (news_df.dates >= window_start) & (news_df.dates < (window_start + window_len))\n",
        "  plt.figure(figsize=(7, 5))\n",
        "\n",
        "  if curr_centers is None:\n",
        "    km = KMeans(n_clusters=num_clusters)\n",
        "  else:\n",
        "    km = KMeans(n_clusters=num_clusters, init=curr_centers)\n",
        "  km.fit(embedding[window_mask])\n",
        "  curr_centers = km.cluster_centers_\n",
        "  \n",
        "  clusters = km.labels_\n",
        "\n",
        "  \n",
        "  for i in range(num_clusters):\n",
        "    cluster_center = embedding[window_mask][clusters == i].mean(0)\n",
        "\n",
        "    windowed_docs = []\n",
        "    for j, k in enumerate(range(np.where(window_mask)[0][0], np.where(window_mask)[0][-1])):\n",
        "      if clusters[j] == i:\n",
        "        windowed_docs.append(news_df['clean_doc'][k])\n",
        "\n",
        "    vectorized_windowed_docs = vectorizer.transform(windowed_docs)\n",
        "\n",
        "    plt.scatter(embedding[window_mask][clusters == i, 0], \n",
        "            embedding[window_mask][clusters == i, 1], \n",
        "            s = 10, # size\n",
        "            edgecolor='none',\n",
        "            label=set(get_top_tf_idf_words(vectorized_windowed_docs, 10))\n",
        "            )\n",
        "    \n",
        "    plt.scatter(cluster_center[0], cluster_center[1], c='r', marker='x', s=50)\n",
        "\n",
        "\n",
        "  filename = f'{file_i}.png'\n",
        "  filenames.append(filename)\n",
        "\n",
        "  plt.legend(bbox_to_anchor=(1, 0.5))\n",
        "  #plt.show()\n",
        "  plt.xlim((-10, 15))\n",
        "  plt.ylim((-10, 20))\n",
        "  plt.savefig(filename, bbox_inches='tight')\n",
        "  plt.close()\n",
        "  window_start += step\n",
        "  "
      ]
    },
    {
      "cell_type": "code",
      "execution_count": 25,
      "metadata": {
        "id": "5kykDhzkdCur"
      },
      "outputs": [
        {
          "name": "stderr",
          "output_type": "stream",
          "text": [
            "/var/folders/dl/2bkd188s3y1c1xz6fdd4plr40000gn/T/ipykernel_7086/3685853124.py:4: DeprecationWarning: Starting with ImageIO v3 the behavior of this function will switch to that of iio.v3.imread. To keep the current behavior (and make this warning disappear) use `import imageio.v2 as imageio` or call `imageio.v2.imread` directly.\n",
            "  image = imageio.imread(filename)\n"
          ]
        }
      ],
      "source": [
        "# build gif\n",
        "with imageio.get_writer('mygif.gif', mode='I') as writer:\n",
        "    for filename in filenames:\n",
        "        image = imageio.imread(filename)\n",
        "        for _ in range(10):\n",
        "          writer.append_data(image)"
      ]
    },
    {
      "cell_type": "code",
      "execution_count": 39,
      "metadata": {},
      "outputs": [
        {
          "name": "stderr",
          "output_type": "stream",
          "text": [
            "/opt/homebrew/Caskroom/miniforge/base/envs/vtb_hack/lib/python3.9/site-packages/sklearn/cluster/_kmeans.py:1307: RuntimeWarning: Explicit initial center position passed: performing only one init in KMeans instead of n_init=10.\n",
            "  super()._check_params(X)\n"
          ]
        },
        {
          "data": {
            "text/html": [
              "<style>#sk-container-id-1 {color: black;background-color: white;}#sk-container-id-1 pre{padding: 0;}#sk-container-id-1 div.sk-toggleable {background-color: white;}#sk-container-id-1 label.sk-toggleable__label {cursor: pointer;display: block;width: 100%;margin-bottom: 0;padding: 0.3em;box-sizing: border-box;text-align: center;}#sk-container-id-1 label.sk-toggleable__label-arrow:before {content: \"▸\";float: left;margin-right: 0.25em;color: #696969;}#sk-container-id-1 label.sk-toggleable__label-arrow:hover:before {color: black;}#sk-container-id-1 div.sk-estimator:hover label.sk-toggleable__label-arrow:before {color: black;}#sk-container-id-1 div.sk-toggleable__content {max-height: 0;max-width: 0;overflow: hidden;text-align: left;background-color: #f0f8ff;}#sk-container-id-1 div.sk-toggleable__content pre {margin: 0.2em;color: black;border-radius: 0.25em;background-color: #f0f8ff;}#sk-container-id-1 input.sk-toggleable__control:checked~div.sk-toggleable__content {max-height: 200px;max-width: 100%;overflow: auto;}#sk-container-id-1 input.sk-toggleable__control:checked~label.sk-toggleable__label-arrow:before {content: \"▾\";}#sk-container-id-1 div.sk-estimator input.sk-toggleable__control:checked~label.sk-toggleable__label {background-color: #d4ebff;}#sk-container-id-1 div.sk-label input.sk-toggleable__control:checked~label.sk-toggleable__label {background-color: #d4ebff;}#sk-container-id-1 input.sk-hidden--visually {border: 0;clip: rect(1px 1px 1px 1px);clip: rect(1px, 1px, 1px, 1px);height: 1px;margin: -1px;overflow: hidden;padding: 0;position: absolute;width: 1px;}#sk-container-id-1 div.sk-estimator {font-family: monospace;background-color: #f0f8ff;border: 1px dotted black;border-radius: 0.25em;box-sizing: border-box;margin-bottom: 0.5em;}#sk-container-id-1 div.sk-estimator:hover {background-color: #d4ebff;}#sk-container-id-1 div.sk-parallel-item::after {content: \"\";width: 100%;border-bottom: 1px solid gray;flex-grow: 1;}#sk-container-id-1 div.sk-label:hover label.sk-toggleable__label {background-color: #d4ebff;}#sk-container-id-1 div.sk-serial::before {content: \"\";position: absolute;border-left: 1px solid gray;box-sizing: border-box;top: 0;bottom: 0;left: 50%;z-index: 0;}#sk-container-id-1 div.sk-serial {display: flex;flex-direction: column;align-items: center;background-color: white;padding-right: 0.2em;padding-left: 0.2em;position: relative;}#sk-container-id-1 div.sk-item {position: relative;z-index: 1;}#sk-container-id-1 div.sk-parallel {display: flex;align-items: stretch;justify-content: center;background-color: white;position: relative;}#sk-container-id-1 div.sk-item::before, #sk-container-id-1 div.sk-parallel-item::before {content: \"\";position: absolute;border-left: 1px solid gray;box-sizing: border-box;top: 0;bottom: 0;left: 50%;z-index: -1;}#sk-container-id-1 div.sk-parallel-item {display: flex;flex-direction: column;z-index: 1;position: relative;background-color: white;}#sk-container-id-1 div.sk-parallel-item:first-child::after {align-self: flex-end;width: 50%;}#sk-container-id-1 div.sk-parallel-item:last-child::after {align-self: flex-start;width: 50%;}#sk-container-id-1 div.sk-parallel-item:only-child::after {width: 0;}#sk-container-id-1 div.sk-dashed-wrapped {border: 1px dashed gray;margin: 0 0.4em 0.5em 0.4em;box-sizing: border-box;padding-bottom: 0.4em;background-color: white;}#sk-container-id-1 div.sk-label label {font-family: monospace;font-weight: bold;display: inline-block;line-height: 1.2em;}#sk-container-id-1 div.sk-label-container {text-align: center;}#sk-container-id-1 div.sk-container {/* jupyter's `normalize.less` sets `[hidden] { display: none; }` but bootstrap.min.css set `[hidden] { display: none !important; }` so we also need the `!important` here to be able to override the default hidden behavior on the sphinx rendered scikit-learn.org. See: https://github.com/scikit-learn/scikit-learn/issues/21755 */display: inline-block !important;position: relative;}#sk-container-id-1 div.sk-text-repr-fallback {display: none;}</style><div id=\"sk-container-id-1\" class=\"sk-top-container\"><div class=\"sk-text-repr-fallback\"><pre>KMeans(init=array([[  6.0162277 ,  -1.1161155 ],\n",
              "       [  8.687877  ,  11.619227  ],\n",
              "       [  0.77283335,   4.784663  ],\n",
              "       [  6.656076  ,   2.9093616 ],\n",
              "       [  8.651253  , -10.079327  ],\n",
              "       [ 11.403872  ,  -1.2343429 ],\n",
              "       [  0.16208696,   0.7533132 ],\n",
              "       [ 10.259025  ,   7.005907  ],\n",
              "       [  3.4058867 ,  -3.9706354 ],\n",
              "       [ -3.007235  ,   8.687322  ]], dtype=float32),\n",
              "       n_clusters=10)</pre><b>In a Jupyter environment, please rerun this cell to show the HTML representation or trust the notebook. <br />On GitHub, the HTML representation is unable to render, please try loading this page with nbviewer.org.</b></div><div class=\"sk-container\" hidden><div class=\"sk-item\"><div class=\"sk-estimator sk-toggleable\"><input class=\"sk-toggleable__control sk-hidden--visually\" id=\"sk-estimator-id-1\" type=\"checkbox\" checked><label for=\"sk-estimator-id-1\" class=\"sk-toggleable__label sk-toggleable__label-arrow\">KMeans</label><div class=\"sk-toggleable__content\"><pre>KMeans(init=array([[  6.0162277 ,  -1.1161155 ],\n",
              "       [  8.687877  ,  11.619227  ],\n",
              "       [  0.77283335,   4.784663  ],\n",
              "       [  6.656076  ,   2.9093616 ],\n",
              "       [  8.651253  , -10.079327  ],\n",
              "       [ 11.403872  ,  -1.2343429 ],\n",
              "       [  0.16208696,   0.7533132 ],\n",
              "       [ 10.259025  ,   7.005907  ],\n",
              "       [  3.4058867 ,  -3.9706354 ],\n",
              "       [ -3.007235  ,   8.687322  ]], dtype=float32),\n",
              "       n_clusters=10)</pre></div></div></div></div></div>"
            ],
            "text/plain": [
              "KMeans(init=array([[  6.0162277 ,  -1.1161155 ],\n",
              "       [  8.687877  ,  11.619227  ],\n",
              "       [  0.77283335,   4.784663  ],\n",
              "       [  6.656076  ,   2.9093616 ],\n",
              "       [  8.651253  , -10.079327  ],\n",
              "       [ 11.403872  ,  -1.2343429 ],\n",
              "       [  0.16208696,   0.7533132 ],\n",
              "       [ 10.259025  ,   7.005907  ],\n",
              "       [  3.4058867 ,  -3.9706354 ],\n",
              "       [ -3.007235  ,   8.687322  ]], dtype=float32),\n",
              "       n_clusters=10)"
            ]
          },
          "execution_count": 39,
          "metadata": {},
          "output_type": "execute_result"
        }
      ],
      "source": [
        "km.fit(embedding)"
      ]
    },
    {
      "cell_type": "code",
      "execution_count": 40,
      "metadata": {},
      "outputs": [],
      "source": [
        "# это вручную выбранные кластеры которые относятся к бизнес теме\n",
        "business_mask = (km.labels_ == 2) | (km.labels_ == 6) | (km.labels_ == 9)"
      ]
    },
    {
      "cell_type": "code",
      "execution_count": 41,
      "metadata": {
        "id": "DFoD0KDXp-S5"
      },
      "outputs": [],
      "source": [
        "news_df_b = news_df[business_mask]"
      ]
    },
    {
      "cell_type": "code",
      "execution_count": 43,
      "metadata": {
        "id": "lPT1O6zoiidX"
      },
      "outputs": [],
      "source": [
        "svd_b = TruncatedSVD(n_components=num_clusters, n_iter=100,\n",
        "                              random_state=122)"
      ]
    },
    {
      "cell_type": "code",
      "execution_count": 44,
      "metadata": {
        "id": "jxhBGNW7islh"
      },
      "outputs": [],
      "source": [
        "X_topics_b = svd_b.fit_transform(X[business_mask])\n",
        "u = umap.UMAP(n_neighbors=100, min_dist=0.5, random_state=12)\n",
        "embedding_b = u.fit_transform(X_topics_b)"
      ]
    },
    {
      "cell_type": "code",
      "execution_count": 30,
      "metadata": {
        "id": "BA-pm1yCqo3A"
      },
      "outputs": [],
      "source": [
        "doc_b = []\n",
        "for i, m in enumerate(business_mask):\n",
        "  if m:\n",
        "    doc_b.append(news_df['clean_doc'][i])"
      ]
    },
    {
      "cell_type": "code",
      "execution_count": 45,
      "metadata": {
        "colab": {
          "base_uri": "https://localhost:8080/"
        },
        "id": "li41Byywp0Jw",
        "outputId": "5d940f09-aecc-484f-80da-539ead3e7bfb"
      },
      "outputs": [
        {
          "name": "stderr",
          "output_type": "stream",
          "text": [
            "/opt/homebrew/Caskroom/miniforge/base/envs/vtb_hack/lib/python3.9/site-packages/sklearn/cluster/_kmeans.py:1307: RuntimeWarning: Explicit initial center position passed: performing only one init in KMeans instead of n_init=10.\n",
            "  super()._check_params(X)\n",
            "/opt/homebrew/Caskroom/miniforge/base/envs/vtb_hack/lib/python3.9/site-packages/sklearn/cluster/_kmeans.py:1307: RuntimeWarning: Explicit initial center position passed: performing only one init in KMeans instead of n_init=10.\n",
            "  super()._check_params(X)\n",
            "/opt/homebrew/Caskroom/miniforge/base/envs/vtb_hack/lib/python3.9/site-packages/sklearn/cluster/_kmeans.py:1307: RuntimeWarning: Explicit initial center position passed: performing only one init in KMeans instead of n_init=10.\n",
            "  super()._check_params(X)\n",
            "/opt/homebrew/Caskroom/miniforge/base/envs/vtb_hack/lib/python3.9/site-packages/sklearn/cluster/_kmeans.py:1307: RuntimeWarning: Explicit initial center position passed: performing only one init in KMeans instead of n_init=10.\n",
            "  super()._check_params(X)\n",
            "/opt/homebrew/Caskroom/miniforge/base/envs/vtb_hack/lib/python3.9/site-packages/sklearn/cluster/_kmeans.py:1307: RuntimeWarning: Explicit initial center position passed: performing only one init in KMeans instead of n_init=10.\n",
            "  super()._check_params(X)\n",
            "/opt/homebrew/Caskroom/miniforge/base/envs/vtb_hack/lib/python3.9/site-packages/sklearn/cluster/_kmeans.py:1307: RuntimeWarning: Explicit initial center position passed: performing only one init in KMeans instead of n_init=10.\n",
            "  super()._check_params(X)\n",
            "/opt/homebrew/Caskroom/miniforge/base/envs/vtb_hack/lib/python3.9/site-packages/sklearn/cluster/_kmeans.py:1307: RuntimeWarning: Explicit initial center position passed: performing only one init in KMeans instead of n_init=10.\n",
            "  super()._check_params(X)\n",
            "/opt/homebrew/Caskroom/miniforge/base/envs/vtb_hack/lib/python3.9/site-packages/sklearn/cluster/_kmeans.py:1307: RuntimeWarning: Explicit initial center position passed: performing only one init in KMeans instead of n_init=10.\n",
            "  super()._check_params(X)\n",
            "/opt/homebrew/Caskroom/miniforge/base/envs/vtb_hack/lib/python3.9/site-packages/sklearn/cluster/_kmeans.py:1307: RuntimeWarning: Explicit initial center position passed: performing only one init in KMeans instead of n_init=10.\n",
            "  super()._check_params(X)\n",
            "/opt/homebrew/Caskroom/miniforge/base/envs/vtb_hack/lib/python3.9/site-packages/sklearn/cluster/_kmeans.py:1307: RuntimeWarning: Explicit initial center position passed: performing only one init in KMeans instead of n_init=10.\n",
            "  super()._check_params(X)\n",
            "/opt/homebrew/Caskroom/miniforge/base/envs/vtb_hack/lib/python3.9/site-packages/sklearn/cluster/_kmeans.py:1307: RuntimeWarning: Explicit initial center position passed: performing only one init in KMeans instead of n_init=10.\n",
            "  super()._check_params(X)\n",
            "/opt/homebrew/Caskroom/miniforge/base/envs/vtb_hack/lib/python3.9/site-packages/sklearn/cluster/_kmeans.py:1307: RuntimeWarning: Explicit initial center position passed: performing only one init in KMeans instead of n_init=10.\n",
            "  super()._check_params(X)\n",
            "/opt/homebrew/Caskroom/miniforge/base/envs/vtb_hack/lib/python3.9/site-packages/sklearn/cluster/_kmeans.py:1307: RuntimeWarning: Explicit initial center position passed: performing only one init in KMeans instead of n_init=10.\n",
            "  super()._check_params(X)\n",
            "/opt/homebrew/Caskroom/miniforge/base/envs/vtb_hack/lib/python3.9/site-packages/sklearn/cluster/_kmeans.py:1307: RuntimeWarning: Explicit initial center position passed: performing only one init in KMeans instead of n_init=10.\n",
            "  super()._check_params(X)\n",
            "/opt/homebrew/Caskroom/miniforge/base/envs/vtb_hack/lib/python3.9/site-packages/sklearn/cluster/_kmeans.py:1307: RuntimeWarning: Explicit initial center position passed: performing only one init in KMeans instead of n_init=10.\n",
            "  super()._check_params(X)\n",
            "/opt/homebrew/Caskroom/miniforge/base/envs/vtb_hack/lib/python3.9/site-packages/sklearn/cluster/_kmeans.py:1307: RuntimeWarning: Explicit initial center position passed: performing only one init in KMeans instead of n_init=10.\n",
            "  super()._check_params(X)\n",
            "/opt/homebrew/Caskroom/miniforge/base/envs/vtb_hack/lib/python3.9/site-packages/sklearn/cluster/_kmeans.py:1307: RuntimeWarning: Explicit initial center position passed: performing only one init in KMeans instead of n_init=10.\n",
            "  super()._check_params(X)\n",
            "/opt/homebrew/Caskroom/miniforge/base/envs/vtb_hack/lib/python3.9/site-packages/sklearn/cluster/_kmeans.py:1307: RuntimeWarning: Explicit initial center position passed: performing only one init in KMeans instead of n_init=10.\n",
            "  super()._check_params(X)\n",
            "/opt/homebrew/Caskroom/miniforge/base/envs/vtb_hack/lib/python3.9/site-packages/sklearn/cluster/_kmeans.py:1307: RuntimeWarning: Explicit initial center position passed: performing only one init in KMeans instead of n_init=10.\n",
            "  super()._check_params(X)\n",
            "/opt/homebrew/Caskroom/miniforge/base/envs/vtb_hack/lib/python3.9/site-packages/sklearn/cluster/_kmeans.py:1307: RuntimeWarning: Explicit initial center position passed: performing only one init in KMeans instead of n_init=10.\n",
            "  super()._check_params(X)\n",
            "/opt/homebrew/Caskroom/miniforge/base/envs/vtb_hack/lib/python3.9/site-packages/sklearn/cluster/_kmeans.py:1307: RuntimeWarning: Explicit initial center position passed: performing only one init in KMeans instead of n_init=10.\n",
            "  super()._check_params(X)\n",
            "/opt/homebrew/Caskroom/miniforge/base/envs/vtb_hack/lib/python3.9/site-packages/sklearn/cluster/_kmeans.py:1307: RuntimeWarning: Explicit initial center position passed: performing only one init in KMeans instead of n_init=10.\n",
            "  super()._check_params(X)\n",
            "/opt/homebrew/Caskroom/miniforge/base/envs/vtb_hack/lib/python3.9/site-packages/sklearn/cluster/_kmeans.py:1307: RuntimeWarning: Explicit initial center position passed: performing only one init in KMeans instead of n_init=10.\n",
            "  super()._check_params(X)\n",
            "/opt/homebrew/Caskroom/miniforge/base/envs/vtb_hack/lib/python3.9/site-packages/sklearn/cluster/_kmeans.py:1307: RuntimeWarning: Explicit initial center position passed: performing only one init in KMeans instead of n_init=10.\n",
            "  super()._check_params(X)\n",
            "/opt/homebrew/Caskroom/miniforge/base/envs/vtb_hack/lib/python3.9/site-packages/sklearn/cluster/_kmeans.py:1307: RuntimeWarning: Explicit initial center position passed: performing only one init in KMeans instead of n_init=10.\n",
            "  super()._check_params(X)\n",
            "/opt/homebrew/Caskroom/miniforge/base/envs/vtb_hack/lib/python3.9/site-packages/sklearn/cluster/_kmeans.py:1307: RuntimeWarning: Explicit initial center position passed: performing only one init in KMeans instead of n_init=10.\n",
            "  super()._check_params(X)\n",
            "/opt/homebrew/Caskroom/miniforge/base/envs/vtb_hack/lib/python3.9/site-packages/sklearn/cluster/_kmeans.py:1307: RuntimeWarning: Explicit initial center position passed: performing only one init in KMeans instead of n_init=10.\n",
            "  super()._check_params(X)\n",
            "/opt/homebrew/Caskroom/miniforge/base/envs/vtb_hack/lib/python3.9/site-packages/sklearn/cluster/_kmeans.py:1307: RuntimeWarning: Explicit initial center position passed: performing only one init in KMeans instead of n_init=10.\n",
            "  super()._check_params(X)\n",
            "/opt/homebrew/Caskroom/miniforge/base/envs/vtb_hack/lib/python3.9/site-packages/sklearn/cluster/_kmeans.py:1307: RuntimeWarning: Explicit initial center position passed: performing only one init in KMeans instead of n_init=10.\n",
            "  super()._check_params(X)\n"
          ]
        }
      ],
      "source": [
        "window_len_b = pd.to_timedelta(2, unit='w')\n",
        "step_b = pd.to_timedelta(1, unit='w')\n",
        "window_start_b = news_df_b.dates.iloc[0]\n",
        "filenames_b = []\n",
        "\n",
        "curr_centers = None\n",
        "\n",
        "for file_i in range(30):\n",
        "  window_mask = (news_df_b.dates >= window_start_b) & (news_df_b.dates < (window_start_b + window_len_b))\n",
        "  plt.figure(figsize=(7, 5))\n",
        "\n",
        "  if curr_centers is None:\n",
        "    km = KMeans(n_clusters=num_clusters)\n",
        "  else:\n",
        "    km = KMeans(n_clusters=num_clusters, init=curr_centers)\n",
        "  km.fit(embedding_b[window_mask])\n",
        "  curr_centers = km.cluster_centers_\n",
        "  \n",
        "  clusters = km.labels_\n",
        "\n",
        "  \n",
        "  for i in range(num_clusters):\n",
        "    cluster_center = embedding_b[window_mask][clusters == i].mean(0)\n",
        "\n",
        "    windowed_docs = []\n",
        "    for j, k in enumerate(range(np.where(window_mask)[0][0], np.where(window_mask)[0][-1])):\n",
        "      if clusters[j] == i:\n",
        "        windowed_docs.append(doc_b[k])\n",
        "\n",
        "    vectorized_windowed_docs = vectorizer.transform(windowed_docs)\n",
        "\n",
        "    plt.scatter(embedding_b[window_mask][clusters == i, 0], \n",
        "            embedding_b[window_mask][clusters == i, 1], \n",
        "            s = 10, # size\n",
        "            edgecolor='none',\n",
        "            label=set(get_top_tf_idf_words(vectorized_windowed_docs, 10))\n",
        "            )\n",
        "    \n",
        "    plt.scatter(cluster_center[0], cluster_center[1], c='r', marker='x', s=50)\n",
        "\n",
        "\n",
        "  filename = f'{file_i}_b.png'\n",
        "  filenames_b.append(filename)\n",
        "\n",
        "  plt.legend(bbox_to_anchor=(1, 0.5))\n",
        "  #plt.show()\n",
        "  plt.title(window_start_b)\n",
        "  plt.xlim((-5, 20))\n",
        "  plt.ylim((-10, 25))\n",
        "  plt.savefig(filename, bbox_inches='tight')\n",
        "  plt.close()\n",
        "  window_start_b += step\n",
        "  "
      ]
    },
    {
      "cell_type": "code",
      "execution_count": 46,
      "metadata": {
        "id": "_F-mwcR_sZcm"
      },
      "outputs": [
        {
          "name": "stderr",
          "output_type": "stream",
          "text": [
            "/var/folders/dl/2bkd188s3y1c1xz6fdd4plr40000gn/T/ipykernel_7086/2927910884.py:4: DeprecationWarning: Starting with ImageIO v3 the behavior of this function will switch to that of iio.v3.imread. To keep the current behavior (and make this warning disappear) use `import imageio.v2 as imageio` or call `imageio.v2.imread` directly.\n",
            "  image = imageio.imread(filename)\n"
          ]
        }
      ],
      "source": [
        "# build gif\n",
        "with imageio.get_writer('mygif_b.gif', mode='I') as writer:\n",
        "    for filename in filenames_b:\n",
        "        image = imageio.imread(filename)\n",
        "        for _ in range(1):\n",
        "          writer.append_data(image)"
      ]
    },
    {
      "cell_type": "code",
      "execution_count": 48,
      "metadata": {
        "colab": {
          "base_uri": "https://localhost:8080/"
        },
        "id": "Kk6BtrZVOXWk",
        "outputId": "03b46cf4-d806-4183-f00c-25dcf6e789cf"
      },
      "outputs": [],
      "source": [
        "import pickle\n",
        "\n",
        "with open('vectorizer.pth', 'wb') as vectorizer_file:\n",
        "  pickle.dump(vectorizer, vectorizer_file)\n",
        "\n",
        "with open('svd.pth', 'wb') as svd_file:\n",
        "  pickle.dump(svd_b, svd_file)\n",
        "\n",
        "with open('u.pth', 'wb') as u_file:\n",
        "  pickle.dump(u, u_file)"
      ]
    }
  ],
  "metadata": {
    "colab": {
      "collapsed_sections": [],
      "provenance": []
    },
    "kernelspec": {
      "display_name": "Python 3.9.13 ('vtb_hack')",
      "language": "python",
      "name": "python3"
    },
    "language_info": {
      "codemirror_mode": {
        "name": "ipython",
        "version": 3
      },
      "file_extension": ".py",
      "mimetype": "text/x-python",
      "name": "python",
      "nbconvert_exporter": "python",
      "pygments_lexer": "ipython3",
      "version": "3.9.13"
    },
    "vscode": {
      "interpreter": {
        "hash": "6557beb163490198c17a486cfd4b1554d1ae700621f9fa3170afebacd365b19d"
      }
    }
  },
  "nbformat": 4,
  "nbformat_minor": 0
}
